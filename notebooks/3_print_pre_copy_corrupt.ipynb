{
 "cells": [
  {
   "cell_type": "code",
   "execution_count": 16,
   "id": "82fcbe1d",
   "metadata": {},
   "outputs": [],
   "source": [
    "## pre_upload PRINT TABLE DATA ##\n",
    "\n",
    "\n",
    "import sqlite3\n",
    "\n",
    "conn = sqlite3.connect('/home/jia/Desktop/archiver_tool/database/archiver_database.db')\n",
    "cursor = conn.cursor()\n",
    "\n",
    "\n",
    "cursor.execute('SELECT * FROM preupload_scan')\n",
    "rows = cursor.fetchall()\n",
    "\n",
    "for row in rows:\n",
    "    print(row)\n",
    "\n",
    "conn.close()"
   ]
  },
  {
   "cell_type": "code",
   "execution_count": 17,
   "id": "6fa8f5fa",
   "metadata": {},
   "outputs": [
    {
     "name": "stdout",
     "output_type": "stream",
     "text": [
      "(1, '2025-07-13 18:05:30', '/home/jia/Desktop/PROJECTS/pooops/Videos/WinInstall/Videos_prev_copy__1.MP4', '3af703eb5edfa95511a9a6965b3c5e1ff53f3c55b10c090e511d242f0dc76d59', 'XAVC', '232 MiB', '35 s 35 ms', '23.976 FPS', '1 920 pixels', '1 080 pixels', '16:9', None, None, '2025-07-29 00:31:53')\n",
      "(2, '2025-07-13 18:12:02', '/home/jia/Desktop/PROJECTS/pooops/Videos/WinInstall/Videos_prev_copy__2.MP4', '30b3478499adc8105837fb0f3defc9bd996ddf84b4c3e3f846746487a1e21cfa', 'XAVC', '236 MiB', '38 s 540 ms', '23.976 FPS', '1 920 pixels', '1 080 pixels', '16:9', None, None, '2025-07-29 00:31:54')\n"
     ]
    }
   ],
   "source": [
    "## copy_buffer PRINT TABLE DATA ##\n",
    "\n",
    "\n",
    "import sqlite3\n",
    "\n",
    "conn = sqlite3.connect('/home/jia/Desktop/archiver_tool/database/archiver_database.db')\n",
    "cursor = conn.cursor()\n",
    "\n",
    "\n",
    "cursor.execute('SELECT * FROM copy_buffer')\n",
    "rows = cursor.fetchall()\n",
    "\n",
    "for row in rows:\n",
    "    print(row)\n",
    "\n",
    "conn.close()"
   ]
  },
  {
   "cell_type": "code",
   "execution_count": 18,
   "id": "b003cf19",
   "metadata": {},
   "outputs": [
    {
     "name": "stdout",
     "output_type": "stream",
     "text": [
      "(1, '2025-07-13 18:05:30', '/home/jia/Desktop/PROJECTS/pooops/Videos/WinInstall/pooops_WinInstall_1.MP4', '3af703eb5edfa95511a9a6965b3c5e1ff53f3c55b10c090e511d242f0dc76d59', 'XAVC', '232 MiB', '35 s 35 ms', '23.976 FPS', '1 920 pixels', '1 080 pixels', '16:9', None, None, '2025-07-29 00:27:34')\n",
      "(2, '2025-07-13 18:12:02', '/home/jia/Desktop/PROJECTS/pooops/Videos/WinInstall/pooops_WinInstall_2.MP4', '30b3478499adc8105837fb0f3defc9bd996ddf84b4c3e3f846746487a1e21cfa', 'XAVC', '236 MiB', '38 s 540 ms', '23.976 FPS', '1 920 pixels', '1 080 pixels', '16:9', None, None, '2025-07-29 00:27:34')\n"
     ]
    }
   ],
   "source": [
    "## drive_storage PRINT TABLE DATA ##\n",
    "\n",
    "\n",
    "import sqlite3\n",
    "\n",
    "conn = sqlite3.connect('/home/jia/Desktop/archiver_tool/database/archiver_database.db')\n",
    "cursor = conn.cursor()\n",
    "\n",
    "\n",
    "cursor.execute('SELECT * FROM drive_storage')\n",
    "rows = cursor.fetchall()\n",
    "\n",
    "for row in rows:\n",
    "    print(row)\n",
    "\n",
    "conn.close()"
   ]
  },
  {
   "cell_type": "code",
   "execution_count": 19,
   "id": "5a3feb39",
   "metadata": {},
   "outputs": [
    {
     "name": "stdout",
     "output_type": "stream",
     "text": [
      "(1, '2025-07-13 18:12:02', '/media/jia/WinInstall/camera/private/M4ROOT/CLIP/poopoo duplicate.MP4', '30b3478499adc8105837fb0f3defc9bd996ddf84b4c3e3f846746487a1e21cfa', 'XAVC', '236 MiB', '38 s 540 ms', '23.976 FPS', '1 920 pixels', '1 080 pixels', '16:9', None, None, 'duplicate')\n",
      "(2, None, '/media/jia/WinInstall/camera/private/M4ROOT/CLIP/poopy corrupt file.MP4', '4b5c16ad2d4763dbb938688887fcfb29097ad008520519032e6073c9999cd582', 'MXF', '236 MiB', None, None, None, None, None, None, None, 'corrupted')\n"
     ]
    }
   ],
   "source": [
    "## preupload_corrupted_files PRINT TABLE DATA ##\n",
    "\n",
    "\n",
    "import sqlite3\n",
    "\n",
    "conn = sqlite3.connect('/home/jia/Desktop/archiver_tool/database/archiver_database.db')\n",
    "cursor = conn.cursor()\n",
    "\n",
    "\n",
    "cursor.execute('SELECT * FROM preupload_corrupted_files')\n",
    "rows = cursor.fetchall()\n",
    "\n",
    "for row in rows:\n",
    "    print(row)\n",
    "\n",
    "conn.close()"
   ]
  },
  {
   "cell_type": "code",
   "execution_count": 20,
   "id": "4e73549b",
   "metadata": {},
   "outputs": [],
   "source": [
    "## copy_corrupted_files PRINT TABLE DATA ##\n",
    "\n",
    "\n",
    "import sqlite3\n",
    "\n",
    "conn = sqlite3.connect('/home/jia/Desktop/archiver_tool/database/archiver_database.db')\n",
    "cursor = conn.cursor()\n",
    "\n",
    "\n",
    "cursor.execute('SELECT * FROM copy_corrupted_files')\n",
    "rows = cursor.fetchall()\n",
    "\n",
    "for row in rows:\n",
    "    print(row)\n",
    "\n",
    "conn.close()"
   ]
  }
 ],
 "metadata": {
  "kernelspec": {
   "display_name": ".venv",
   "language": "python",
   "name": "python3"
  },
  "language_info": {
   "codemirror_mode": {
    "name": "ipython",
    "version": 3
   },
   "file_extension": ".py",
   "mimetype": "text/x-python",
   "name": "python",
   "nbconvert_exporter": "python",
   "pygments_lexer": "ipython3",
   "version": "3.12.3"
  }
 },
 "nbformat": 4,
 "nbformat_minor": 5
}
