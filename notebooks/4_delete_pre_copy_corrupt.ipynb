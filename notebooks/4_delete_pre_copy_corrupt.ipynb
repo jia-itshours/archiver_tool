{
 "cells": [
  {
   "cell_type": "code",
   "execution_count": null,
   "id": "3a6cc510",
   "metadata": {},
   "outputs": [
    {
     "ename": "OperationalError",
     "evalue": "no such table: sqlite_sequence",
     "output_type": "error",
     "traceback": [
      "\u001b[31m---------------------------------------------------------------------------\u001b[39m",
      "\u001b[31mOperationalError\u001b[39m                          Traceback (most recent call last)",
      "\u001b[36mCell\u001b[39m\u001b[36m \u001b[39m\u001b[32mIn[1]\u001b[39m\u001b[32m, line 12\u001b[39m\n\u001b[32m      8\u001b[39m cursor = conn.cursor()\n\u001b[32m     10\u001b[39m cursor.execute(\u001b[33m'\u001b[39m\u001b[33mDELETE FROM preupload_scan\u001b[39m\u001b[33m'\u001b[39m)\n\u001b[32m---> \u001b[39m\u001b[32m12\u001b[39m \u001b[43mcursor\u001b[49m\u001b[43m.\u001b[49m\u001b[43mexecute\u001b[49m\u001b[43m(\u001b[49m\u001b[33;43m'\u001b[39;49m\u001b[33;43mDELETE FROM sqlite_sequence WHERE name =\u001b[39;49m\u001b[33;43m\"\u001b[39;49m\u001b[33;43mpreupload_scan\u001b[39;49m\u001b[33;43m\"\u001b[39;49m\u001b[33;43m'\u001b[39;49m\u001b[43m)\u001b[49m\n\u001b[32m     14\u001b[39m conn.commit()\n\u001b[32m     15\u001b[39m conn.close()\n",
      "\u001b[31mOperationalError\u001b[39m: no such table: sqlite_sequence"
     ]
    }
   ],
   "source": [
    "###### preupload_scan DELETING TABLE + RESET COUNTER (OTHERWISE COUNTER WOULD KEEP COUNTING) ########\n",
    "\n",
    "\n",
    "import sqlite3\n",
    "\n",
    "\n",
    "conn = sqlite3.connect('/home/jia/Desktop/archiver_tool/database/archiver_database.db')\n",
    "cursor = conn.cursor()\n",
    "\n",
    "cursor.execute('DELETE FROM preupload_scan')\n",
    "\n",
    "\n",
    "conn.commit()\n",
    "conn.close()"
   ]
  },
  {
   "cell_type": "code",
   "execution_count": null,
   "id": "8e784df6",
   "metadata": {},
   "outputs": [],
   "source": [
    "###### copy_buffer DELETING TABLE + RESET COUNTER (OTHERWISE COUNTER WOULD KEEP COUNTING) ########\n",
    "\n",
    "\n",
    "import sqlite3\n",
    "\n",
    "\n",
    "conn = sqlite3.connect('/home/jia/Desktop/archiver_tool/database/archiver_database.db')\n",
    "cursor = conn.cursor()\n",
    "\n",
    "cursor.execute('DELETE FROM copy_buffer')\n",
    "\n",
    "\n",
    "conn.commit()\n",
    "conn.close()"
   ]
  },
  {
   "cell_type": "code",
   "execution_count": null,
   "id": "229fdd9d",
   "metadata": {},
   "outputs": [],
   "source": [
    "###### drive_storage DELETING TABLE + RESET COUNTER (OTHERWISE COUNTER WOULD KEEP COUNTING) ########\n",
    "\n",
    "\n",
    "import sqlite3\n",
    "\n",
    "\n",
    "conn = sqlite3.connect('/home/jia/Desktop/archiver_tool/database/archiver_database.db')\n",
    "cursor = conn.cursor()\n",
    "\n",
    "cursor.execute('DELETE FROM drive_storage')\n",
    "\n",
    "conn.commit()\n",
    "conn.close()"
   ]
  },
  {
   "cell_type": "code",
   "execution_count": null,
   "id": "f0fd79a5",
   "metadata": {},
   "outputs": [],
   "source": [
    "###### preupload_corrupted_files DELETING TABLE + RESET COUNTER (OTHERWISE COUNTER WOULD KEEP COUNTING) ########\n",
    "\n",
    "\n",
    "import sqlite3\n",
    "\n",
    "\n",
    "conn = sqlite3.connect('/home/jia/Desktop/archiver_tool/database/archiver_database.db')\n",
    "cursor = conn.cursor()\n",
    "\n",
    "cursor.execute('DELETE FROM preupload_corrupted_files')\n",
    "\n",
    "conn.commit()\n",
    "conn.close()"
   ]
  },
  {
   "cell_type": "code",
   "execution_count": null,
   "id": "ea820dd7",
   "metadata": {},
   "outputs": [],
   "source": [
    "###### copy_corrupted_files DELETING TABLE + RESET COUNTER (OTHERWISE COUNTER WOULD KEEP COUNTING) ########\n",
    "\n",
    "\n",
    "import sqlite3\n",
    "\n",
    "\n",
    "conn = sqlite3.connect('/home/jia/Desktop/archiver_tool/database/archiver_database.db')\n",
    "cursor = conn.cursor()\n",
    "\n",
    "cursor.execute('DELETE FROM copy_corrupted_files')\n",
    "\n",
    "\n",
    "conn.commit()\n",
    "conn.close()"
   ]
  }
 ],
 "metadata": {
  "kernelspec": {
   "display_name": ".venv",
   "language": "python",
   "name": "python3"
  },
  "language_info": {
   "codemirror_mode": {
    "name": "ipython",
    "version": 3
   },
   "file_extension": ".py",
   "mimetype": "text/x-python",
   "name": "python",
   "nbconvert_exporter": "python",
   "pygments_lexer": "ipython3",
   "version": "3.12.3"
  }
 },
 "nbformat": 4,
 "nbformat_minor": 5
}
